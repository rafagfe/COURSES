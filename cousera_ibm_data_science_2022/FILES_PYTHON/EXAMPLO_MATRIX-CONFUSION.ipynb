{
  "nbformat": 4,
  "nbformat_minor": 0,
  "metadata": {
    "colab": {
      "name": "Untitled4.ipynb",
      "provenance": []
    },
    "kernelspec": {
      "name": "python3",
      "display_name": "Python 3"
    },
    "language_info": {
      "name": "python"
    }
  },
  "cells": [
    {
      "cell_type": "code",
      "execution_count": 1,
      "metadata": {
        "id": "8MvbJlfGD4Br"
      },
      "outputs": [],
      "source": [
        "import numpy as np"
      ]
    },
    {
      "cell_type": "code",
      "source": [
        "# 1 para grávida, 0 para não grávida\n",
        "valores_reais    = [1, 0, 1, 0, 0, 0, 1, 0, 1, 0]\n",
        "valores_preditos = [1, 0, 0, 1, 0, 0, 1, 1, 1, 0]\n",
        "\n",
        "def get_confusion_matrix(reais, preditos, labels):\n",
        "    \"\"\"\n",
        "    Uma função que retorna a matriz de confusão para uma classificação binária\n",
        "    \n",
        "    Args:\n",
        "        reais (list): lista de valores reais\n",
        "        preditos (list): lista de valores preditos pelo modelos\n",
        "        labels (list): lista de labels a serem avaliados.\n",
        "            É importante que ela esteja presente, pois usaremos ela para entender\n",
        "            quem é a classe positiva e quem é a classe negativa\n",
        "    \n",
        "    Returns:\n",
        "        Um numpy.array, no formato:\n",
        "            numpy.array([\n",
        "                [ tp, fp ],\n",
        "                [ fn, tn ]\n",
        "            ])\n",
        "    \"\"\"\n",
        "    # não implementado\n",
        "    if len(labels) > 2:\n",
        "        return None\n",
        "\n",
        "    if len(reais) != len(preditos):\n",
        "        return None\n",
        "    \n",
        "    # considerando a primeira classe como a positiva, e a segunda a negativa\n",
        "    true_class = labels[0]\n",
        "    negative_class = labels[1]\n",
        "\n",
        "    # valores preditos corretamente\n",
        "    tp = 0\n",
        "    tn = 0\n",
        "    \n",
        "    # valores preditos incorretamente\n",
        "    fp = 0\n",
        "    fn = 0\n",
        "    \n",
        "    for (indice, v_real) in enumerate(reais):\n",
        "        v_predito = preditos[indice]\n",
        "\n",
        "        # se trata de um valor real da classe positiva\n",
        "        if v_real == true_class:\n",
        "            tp += 1 if v_predito == v_real else 0\n",
        "            fp += 1 if v_predito != v_real else 0\n",
        "        else:\n",
        "            tn += 1 if v_predito == v_real else 0\n",
        "            fn += 1 if v_predito != v_real else 0\n",
        "    \n",
        "    return np.array([\n",
        "        # valores da classe positiva\n",
        "        [ tp, fp ],\n",
        "        # valores da classe negativa\n",
        "        [ fn, tn ]\n",
        "    ])\n",
        "\n",
        "get_confusion_matrix(reais=valores_reais, preditos=valores_preditos, labels=[1,0])\n",
        "# array([[3, 1], [2, 4]])"
      ],
      "metadata": {
        "colab": {
          "base_uri": "https://localhost:8080/"
        },
        "id": "Gie5sVh0D5tp",
        "outputId": "d85d8c6d-226f-4925-ded8-d21ac1a045c4"
      },
      "execution_count": 2,
      "outputs": [
        {
          "output_type": "execute_result",
          "data": {
            "text/plain": [
              "array([[3, 1],\n",
              "       [2, 4]])"
            ]
          },
          "metadata": {},
          "execution_count": 2
        }
      ]
    }
  ]
}